{
 "cells": [
  {
   "cell_type": "code",
   "execution_count": 1,
   "id": "bcd33a01-0f54-4feb-8372-167b9d536034",
   "metadata": {},
   "outputs": [],
   "source": [
    "import pennylane as qml"
   ]
  },
  {
   "cell_type": "code",
   "execution_count": 3,
   "id": "69c7a64f-71a7-4989-b477-2562f82df13e",
   "metadata": {},
   "outputs": [],
   "source": [
    "dev = qml.device(name='default.qubit', wires=1)"
   ]
  },
  {
   "cell_type": "code",
   "execution_count": 7,
   "id": "9a8a7ff6-cff3-4945-9e37-8fb8a2926d04",
   "metadata": {},
   "outputs": [],
   "source": [
    "@qml.qnode(dev)\n",
    "def qn_state():\n",
    "    qml.PauliX(wires=0)\n",
    "    qml.Hadamard(wires=0)\n",
    "    return qml.state()"
   ]
  },
  {
   "cell_type": "code",
   "execution_count": 10,
   "id": "bc14d6be-5949-46c5-ad66-c9d83503fc05",
   "metadata": {},
   "outputs": [
    {
     "ename": "ImportError",
     "evalue": "Module matplotlib is required for ``MPLDrawer`` class. You can install matplotlib via \n\n   pip install matplotlib",
     "output_type": "error",
     "traceback": [
      "\u001b[1;31m---------------------------------------------------------------------------\u001b[0m",
      "\u001b[1;31mImportError\u001b[0m                               Traceback (most recent call last)",
      "Cell \u001b[1;32mIn[10], line 1\u001b[0m\n\u001b[1;32m----> 1\u001b[0m fig, axis \u001b[38;5;241m=\u001b[39m \u001b[43mqml\u001b[49m\u001b[38;5;241;43m.\u001b[39;49m\u001b[43mdraw_mpl\u001b[49m\u001b[43m(\u001b[49m\u001b[43mqn_state\u001b[49m\u001b[43m)\u001b[49m\u001b[43m(\u001b[49m\u001b[43m)\u001b[49m\n",
      "File \u001b[1;32m~\\.virtualenvs\\Quantum-9Ay2eo3K\\Lib\\site-packages\\pennylane\\drawer\\draw.py:590\u001b[0m, in \u001b[0;36m_draw_mpl_qnode.<locals>.wrapper\u001b[1;34m(*args, **kwargs_qnode)\u001b[0m\n\u001b[0;32m    586\u001b[0m         qnode\u001b[38;5;241m.\u001b[39mexpansion_strategy \u001b[38;5;241m=\u001b[39m original_expansion_strategy\n\u001b[0;32m    588\u001b[0m _wire_order \u001b[38;5;241m=\u001b[39m wire_order \u001b[38;5;129;01mor\u001b[39;00m qnode\u001b[38;5;241m.\u001b[39mdevice\u001b[38;5;241m.\u001b[39mwires \u001b[38;5;129;01mor\u001b[39;00m tape\u001b[38;5;241m.\u001b[39mwires\n\u001b[1;32m--> 590\u001b[0m \u001b[38;5;28;01mreturn\u001b[39;00m \u001b[43mtape_mpl\u001b[49m\u001b[43m(\u001b[49m\n\u001b[0;32m    591\u001b[0m \u001b[43m    \u001b[49m\u001b[43mtape\u001b[49m\u001b[43m,\u001b[49m\n\u001b[0;32m    592\u001b[0m \u001b[43m    \u001b[49m\u001b[43mwire_order\u001b[49m\u001b[38;5;241;43m=\u001b[39;49m\u001b[43m_wire_order\u001b[49m\u001b[43m,\u001b[49m\n\u001b[0;32m    593\u001b[0m \u001b[43m    \u001b[49m\u001b[43mshow_all_wires\u001b[49m\u001b[38;5;241;43m=\u001b[39;49m\u001b[43mshow_all_wires\u001b[49m\u001b[43m,\u001b[49m\n\u001b[0;32m    594\u001b[0m \u001b[43m    \u001b[49m\u001b[43mdecimals\u001b[49m\u001b[38;5;241;43m=\u001b[39;49m\u001b[43mdecimals\u001b[49m\u001b[43m,\u001b[49m\n\u001b[0;32m    595\u001b[0m \u001b[43m    \u001b[49m\u001b[43mstyle\u001b[49m\u001b[38;5;241;43m=\u001b[39;49m\u001b[43mstyle\u001b[49m\u001b[43m,\u001b[49m\n\u001b[0;32m    596\u001b[0m \u001b[43m    \u001b[49m\u001b[43mfig\u001b[49m\u001b[38;5;241;43m=\u001b[39;49m\u001b[43mfig\u001b[49m\u001b[43m,\u001b[49m\n\u001b[0;32m    597\u001b[0m \u001b[43m    \u001b[49m\u001b[38;5;241;43m*\u001b[39;49m\u001b[38;5;241;43m*\u001b[39;49m\u001b[43mkwargs\u001b[49m\u001b[43m,\u001b[49m\n\u001b[0;32m    598\u001b[0m \u001b[43m\u001b[49m\u001b[43m)\u001b[49m\n",
      "File \u001b[1;32m~\\.virtualenvs\\Quantum-9Ay2eo3K\\Lib\\site-packages\\pennylane\\drawer\\tape_mpl.py:453\u001b[0m, in \u001b[0;36mtape_mpl\u001b[1;34m(tape, wire_order, show_all_wires, decimals, style, fig, **kwargs)\u001b[0m\n\u001b[0;32m    451\u001b[0m     _set_style(style)\n\u001b[0;32m    452\u001b[0m \u001b[38;5;28;01mtry\u001b[39;00m:\n\u001b[1;32m--> 453\u001b[0m     \u001b[38;5;28;01mreturn\u001b[39;00m \u001b[43m_tape_mpl\u001b[49m\u001b[43m(\u001b[49m\n\u001b[0;32m    454\u001b[0m \u001b[43m        \u001b[49m\u001b[43mtape\u001b[49m\u001b[43m,\u001b[49m\n\u001b[0;32m    455\u001b[0m \u001b[43m        \u001b[49m\u001b[43mwire_order\u001b[49m\u001b[38;5;241;43m=\u001b[39;49m\u001b[43mwire_order\u001b[49m\u001b[43m,\u001b[49m\n\u001b[0;32m    456\u001b[0m \u001b[43m        \u001b[49m\u001b[43mshow_all_wires\u001b[49m\u001b[38;5;241;43m=\u001b[39;49m\u001b[43mshow_all_wires\u001b[49m\u001b[43m,\u001b[49m\n\u001b[0;32m    457\u001b[0m \u001b[43m        \u001b[49m\u001b[43mdecimals\u001b[49m\u001b[38;5;241;43m=\u001b[39;49m\u001b[43mdecimals\u001b[49m\u001b[43m,\u001b[49m\n\u001b[0;32m    458\u001b[0m \u001b[43m        \u001b[49m\u001b[43mfig\u001b[49m\u001b[38;5;241;43m=\u001b[39;49m\u001b[43mfig\u001b[49m\u001b[43m,\u001b[49m\n\u001b[0;32m    459\u001b[0m \u001b[43m        \u001b[49m\u001b[38;5;241;43m*\u001b[39;49m\u001b[38;5;241;43m*\u001b[39;49m\u001b[43mkwargs\u001b[49m\u001b[43m,\u001b[49m\n\u001b[0;32m    460\u001b[0m \u001b[43m    \u001b[49m\u001b[43m)\u001b[49m\n\u001b[0;32m    461\u001b[0m \u001b[38;5;28;01mfinally\u001b[39;00m:\n\u001b[0;32m    462\u001b[0m     \u001b[38;5;28;01mif\u001b[39;00m update_style:\n\u001b[0;32m    463\u001b[0m         \u001b[38;5;66;03m# we don't want to mess with how it modifies whether the interface is interactive\u001b[39;00m\n\u001b[0;32m    464\u001b[0m         \u001b[38;5;66;03m# but we want to restore everything else\u001b[39;00m\n",
      "File \u001b[1;32m~\\.virtualenvs\\Quantum-9Ay2eo3K\\Lib\\site-packages\\pennylane\\drawer\\tape_mpl.py:232\u001b[0m, in \u001b[0;36m_tape_mpl\u001b[1;34m(tape, wire_order, show_all_wires, decimals, fig, **kwargs)\u001b[0m\n\u001b[0;32m    228\u001b[0m n_wires \u001b[38;5;241m=\u001b[39m \u001b[38;5;28mlen\u001b[39m(wire_map)\n\u001b[0;32m    230\u001b[0m cwire_layers, cwire_wires \u001b[38;5;241m=\u001b[39m cwire_connections(layers \u001b[38;5;241m+\u001b[39m [tape\u001b[38;5;241m.\u001b[39mmeasurements], bit_map)\n\u001b[1;32m--> 232\u001b[0m drawer \u001b[38;5;241m=\u001b[39m \u001b[43mMPLDrawer\u001b[49m\u001b[43m(\u001b[49m\n\u001b[0;32m    233\u001b[0m \u001b[43m    \u001b[49m\u001b[43mn_layers\u001b[49m\u001b[38;5;241;43m=\u001b[39;49m\u001b[43mn_layers\u001b[49m\u001b[43m,\u001b[49m\n\u001b[0;32m    234\u001b[0m \u001b[43m    \u001b[49m\u001b[43mn_wires\u001b[49m\u001b[38;5;241;43m=\u001b[39;49m\u001b[43mn_wires\u001b[49m\u001b[43m,\u001b[49m\n\u001b[0;32m    235\u001b[0m \u001b[43m    \u001b[49m\u001b[43mc_wires\u001b[49m\u001b[38;5;241;43m=\u001b[39;49m\u001b[38;5;28;43mlen\u001b[39;49m\u001b[43m(\u001b[49m\u001b[43mbit_map\u001b[49m\u001b[43m)\u001b[49m\u001b[43m,\u001b[49m\n\u001b[0;32m    236\u001b[0m \u001b[43m    \u001b[49m\u001b[43mwire_options\u001b[49m\u001b[38;5;241;43m=\u001b[39;49m\u001b[43mwire_options\u001b[49m\u001b[43m,\u001b[49m\n\u001b[0;32m    237\u001b[0m \u001b[43m    \u001b[49m\u001b[43mfig\u001b[49m\u001b[38;5;241;43m=\u001b[39;49m\u001b[43mfig\u001b[49m\u001b[43m,\u001b[49m\n\u001b[0;32m    238\u001b[0m \u001b[43m\u001b[49m\u001b[43m)\u001b[49m\n\u001b[0;32m    240\u001b[0m config \u001b[38;5;241m=\u001b[39m _Config(\n\u001b[0;32m    241\u001b[0m     decimals\u001b[38;5;241m=\u001b[39mdecimals,\n\u001b[0;32m    242\u001b[0m     active_wire_notches\u001b[38;5;241m=\u001b[39mactive_wire_notches,\n\u001b[0;32m    243\u001b[0m     bit_map\u001b[38;5;241m=\u001b[39mbit_map,\n\u001b[0;32m    244\u001b[0m     terminal_layers\u001b[38;5;241m=\u001b[39m[cl[\u001b[38;5;241m-\u001b[39m\u001b[38;5;241m1\u001b[39m] \u001b[38;5;28;01mfor\u001b[39;00m cl \u001b[38;5;129;01min\u001b[39;00m cwire_layers],\n\u001b[0;32m    245\u001b[0m )\n\u001b[0;32m    247\u001b[0m \u001b[38;5;28;01mif\u001b[39;00m n_wires \u001b[38;5;241m==\u001b[39m \u001b[38;5;241m0\u001b[39m:\n",
      "File \u001b[1;32m~\\.virtualenvs\\Quantum-9Ay2eo3K\\Lib\\site-packages\\pennylane\\drawer\\mpldrawer.py:261\u001b[0m, in \u001b[0;36mMPLDrawer.__init__\u001b[1;34m(self, n_layers, n_wires, c_wires, wire_options, figsize, fig)\u001b[0m\n\u001b[0;32m    259\u001b[0m \u001b[38;5;28;01mdef\u001b[39;00m \u001b[38;5;21m__init__\u001b[39m(\u001b[38;5;28mself\u001b[39m, n_layers, n_wires, c_wires\u001b[38;5;241m=\u001b[39m\u001b[38;5;241m0\u001b[39m, wire_options\u001b[38;5;241m=\u001b[39m\u001b[38;5;28;01mNone\u001b[39;00m, figsize\u001b[38;5;241m=\u001b[39m\u001b[38;5;28;01mNone\u001b[39;00m, fig\u001b[38;5;241m=\u001b[39m\u001b[38;5;28;01mNone\u001b[39;00m):\n\u001b[0;32m    260\u001b[0m     \u001b[38;5;28;01mif\u001b[39;00m \u001b[38;5;129;01mnot\u001b[39;00m has_mpl:  \u001b[38;5;66;03m# pragma: no cover\u001b[39;00m\n\u001b[1;32m--> 261\u001b[0m         \u001b[38;5;28;01mraise\u001b[39;00m \u001b[38;5;167;01mImportError\u001b[39;00m(\n\u001b[0;32m    262\u001b[0m             \u001b[38;5;124m\"\u001b[39m\u001b[38;5;124mModule matplotlib is required for ``MPLDrawer`` class. \u001b[39m\u001b[38;5;124m\"\u001b[39m\n\u001b[0;32m    263\u001b[0m             \u001b[38;5;124m\"\u001b[39m\u001b[38;5;124mYou can install matplotlib via \u001b[39m\u001b[38;5;130;01m\\n\u001b[39;00m\u001b[38;5;130;01m\\n\u001b[39;00m\u001b[38;5;124m   pip install matplotlib\u001b[39m\u001b[38;5;124m\"\u001b[39m\n\u001b[0;32m    264\u001b[0m         )\n\u001b[0;32m    266\u001b[0m     \u001b[38;5;28mself\u001b[39m\u001b[38;5;241m.\u001b[39mn_layers \u001b[38;5;241m=\u001b[39m n_layers\n\u001b[0;32m    267\u001b[0m     \u001b[38;5;28mself\u001b[39m\u001b[38;5;241m.\u001b[39mn_wires \u001b[38;5;241m=\u001b[39m n_wires\n",
      "\u001b[1;31mImportError\u001b[0m: Module matplotlib is required for ``MPLDrawer`` class. You can install matplotlib via \n\n   pip install matplotlib"
     ]
    }
   ],
   "source": [
    "fig, axis = qml.draw_mpl(qn_state)()"
   ]
  }
 ],
 "metadata": {
  "kernelspec": {
   "display_name": "Python 3 (ipykernel)",
   "language": "python",
   "name": "python3"
  },
  "language_info": {
   "codemirror_mode": {
    "name": "ipython",
    "version": 3
   },
   "file_extension": ".py",
   "mimetype": "text/x-python",
   "name": "python",
   "nbconvert_exporter": "python",
   "pygments_lexer": "ipython3",
   "version": "3.11.3"
  }
 },
 "nbformat": 4,
 "nbformat_minor": 5
}
